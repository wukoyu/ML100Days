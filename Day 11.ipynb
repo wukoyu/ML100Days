{
 "cells": [
  {
   "cell_type": "markdown",
   "metadata": {},
   "source": [
    "# Homw Work1"
   ]
  },
  {
   "cell_type": "markdown",
   "metadata": {},
   "source": [
    "aspberry Pi OS with desktop\n",
    "Release date: December 2nd 2020\n",
    "Kernel version: 5.4\n",
    "Size: 1,177MB\n",
    "Show SHA256 file integrity hash:\n",
    "Release notes\n",
    "\n",
    "Raspberry Pi OS Lite\n",
    "Release date: December 2nd 2020\n",
    "Kernel version: 5.4\n",
    "Size: 438MB\n",
    "Show SHA256 file integrity hash:\n",
    "Release notes"
   ]
  },
  {
   "cell_type": "markdown",
   "metadata": {},
   "source": [
    "# Home Work2"
   ]
  },
  {
   "cell_type": "markdown",
   "metadata": {},
   "source": [
    "已可開機並更換密碼"
   ]
  },
  {
   "cell_type": "markdown",
   "metadata": {},
   "source": [
    "# Home Work3"
   ]
  },
  {
   "cell_type": "markdown",
   "metadata": {},
   "source": [
    "已可上網"
   ]
  },
  {
   "cell_type": "code",
   "execution_count": null,
   "metadata": {},
   "outputs": [],
   "source": []
  }
 ],
 "metadata": {
  "kernelspec": {
   "display_name": "Python 3",
   "language": "python",
   "name": "python3"
  },
  "language_info": {
   "codemirror_mode": {
    "name": "ipython",
    "version": 3
   },
   "file_extension": ".py",
   "mimetype": "text/x-python",
   "name": "python",
   "nbconvert_exporter": "python",
   "pygments_lexer": "ipython3",
   "version": "3.8.5"
  }
 },
 "nbformat": 4,
 "nbformat_minor": 4
}
